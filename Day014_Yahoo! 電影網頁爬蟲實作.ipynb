{
 "cells": [
  {
   "cell_type": "markdown",
   "metadata": {},
   "source": [
    "# YAHOO電影爬蟲練習\n",
    "## 練習爬取電影放映資訊。必須逐步獲取電影的代號、放映地區、放映日期後，再送出查詢給伺服器。"
   ]
  },
  {
   "cell_type": "code",
   "execution_count": 1,
   "metadata": {},
   "outputs": [],
   "source": [
    "import requests\n",
    "import re\n",
    "from bs4 import BeautifulSoup"
   ]
  },
  {
   "cell_type": "markdown",
   "metadata": {},
   "source": [
    "### 先搜尋全部的電影代號(ID)資訊"
   ]
  },
  {
   "cell_type": "code",
   "execution_count": 10,
   "metadata": {},
   "outputs": [
    {
     "name": "stdout",
     "output_type": "stream",
     "text": [
      "Movie: 魔鬼剋星：未來世, ID: 10415\n",
      "Movie: 麥特與麥斯, ID: 11977\n",
      "Movie: 金牌特務：金士曼起源, ID: 11952\n",
      "Movie: 騎趣環世界, ID: 11937\n",
      "Movie: 劇場版信號 長期未解決事件搜查班, ID: 11912\n",
      "Movie: 鈦, ID: 11890\n",
      "Movie: 緣來大飯店, ID: 11758\n",
      "Movie: 阿達一族2, ID: 11512\n",
      "Movie: 引言, ID: 12038\n",
      "Movie: 噩兆, ID: 11911\n",
      "Movie: 2gether電影版：只因我們天生一對, ID: 11900\n",
      "Movie: 殲獄行動, ID: 11826\n",
      "Movie: 不想一個人, ID: 11804\n",
      "Movie: 四季拉麵物語, ID: 11630\n",
      "Movie: 一杯熱奶茶的等待, ID: 11601\n",
      "Movie: 駭客任務：復活, ID: 11744\n",
      "Movie: 電影版 狂賭之淵2：絕體絕命俄羅斯輪盤, ID: 11759\n",
      "Movie: 尋找神話之鳥, ID: 11690\n",
      "Movie: 愛上費加洛, ID: 11670\n",
      "Movie: 夢想裁縫師, ID: 11599\n",
      "Movie: 蜘蛛人：無家日, ID: 11479\n",
      "Movie: 天菜特警, ID: 11821\n",
      "Movie: 藍宇, ID: 11695\n",
      "Movie: 法蘭西特派週報, ID: 11633\n",
      "Movie: 寶可夢：皮卡丘與可可的冒險, ID: 11607\n",
      "Movie: 大紅狗克里弗, ID: 11416\n",
      "Movie: 爆裂戰警, ID: 11644\n",
      "Movie: 迷情蘇珊娜, ID: 11623\n",
      "Movie: 美國女孩, ID: 11600\n",
      "Movie: 魔法滿屋, ID: 11736\n",
      "Movie: 偶然與想像, ID: 11597\n",
      "Movie: 惡靈古堡首部曲：拉昆市, ID: 11558\n",
      "Movie: 月老, ID: 11563\n",
      "Movie: 刀劍神域 –Progressive- 無星夜的詠嘆調, ID: 11504\n",
      "Movie: 迷離夜蘇活, ID: 11407\n",
      "Movie: 總編的復仇, ID: 11608\n",
      "Movie: 永恆族, ID: 11472\n",
      "Movie: 金派特務, ID: 11489\n",
      "Movie: 瀑布, ID: 11481\n",
      "Movie: 爽賺姐妹, ID: 11528\n",
      "Movie: 月光光新慌慌：萬聖殺, ID: 11414\n",
      "Movie: 怒火, ID: 11331\n",
      "Movie: 最後的決鬥, ID: 11432\n",
      "Movie: 寶貝老闆：家大業大, ID: 11084\n",
      "Movie: 殺手保鑣2, ID: 10441\n",
      "Movie: 007生死交戰, ID: 10406\n",
      "Movie: 蠟筆小新：謎案！天下春日部學院的怪奇事件, ID: 11506\n",
      "Movie: 金錢帝國：追虎擒龍, ID: 11497\n",
      "Movie: 疾凍救援, ID: 11406\n",
      "Movie: 算牌手, ID: 11480\n",
      "Movie: 密弒遊戲2：勝者危亡, ID: 11408\n",
      "Movie: 沙丘, ID: 10633\n",
      "Movie: 心悸效應, ID: 11473\n",
      "Movie: 蝸牛之家, ID: 11447\n",
      "Movie: 尚氣與十環傳奇, ID: 11374\n",
      "Movie: 裸體午餐, ID: 11466\n",
      "Movie: 暫時停止呼吸2, ID: 11417\n",
      "Movie: 脫稿玩家, ID: 11445\n",
      "Movie: 路卡的夏天, ID: 11268\n",
      "Movie: 厲陰宅3：是惡魔逼我的, ID: 11376\n",
      "Movie: 黑寡婦, ID: 10397\n",
      "Movie: 操控, ID: 11352\n",
      "Movie: 夢想之地, ID: 11306\n",
      "Movie: 聽見歌 再唱, ID: 11232\n",
      "Movie: 阿達一族, ID: 9992\n",
      "Movie: 蜘蛛人：返校日, ID: 6661\n",
      "Movie: 情書, ID: 6451\n",
      "Movie: 夏日之戀, ID: 447\n",
      "Movie: 四百擊, ID: 446\n"
     ]
    }
   ],
   "source": [
    "# 查看目前上映那些電影，並擷取出其ID資訊\n",
    "url = 'https://movies.yahoo.com.tw/'\n",
    "resp = requests.get(url)\n",
    "resp.encoding = 'utf-8'\n",
    "\n",
    "soup = BeautifulSoup(resp.text, 'lxml')\n",
    "#選擇片名\n",
    "html = soup.find(\"select\", attrs={'name':'movie_id'})\n",
    "movie_item = html.find_all(\"option\", attrs={'data-name':re.compile('.*')})\n",
    "\n",
    "for p in movie_item:\n",
    "    print(\"Movie: %s, ID: %s\" % (p[\"data-name\"], p[\"value\"]))"
   ]
  },
  {
   "cell_type": "markdown",
   "metadata": {},
   "source": [
    "### 指定你有興趣的電影其ID，然後查詢其放映地區資訊。"
   ]
  },
  {
   "cell_type": "code",
   "execution_count": 18,
   "metadata": {},
   "outputs": [],
   "source": [
    "# 參考前一個步驟中擷取到的ID資訊，並指定ID\n",
    "movie_id = 11479"
   ]
  },
  {
   "cell_type": "code",
   "execution_count": 19,
   "metadata": {},
   "outputs": [
    {
     "name": "stdout",
     "output_type": "stream",
     "text": [
      "放映地區: 台北市, 代號(area_id): 28\n",
      "放映地區: 新北市, 代號(area_id): 8\n",
      "放映地區: 桃園, 代號(area_id): 16\n",
      "放映地區: 新竹, 代號(area_id): 20\n",
      "放映地區: 苗栗, 代號(area_id): 15\n",
      "放映地區: 台中, 代號(area_id): 2\n",
      "放映地區: 彰化, 代號(area_id): 22\n",
      "放映地區: 南投, 代號(area_id): 13\n",
      "放映地區: 雲林, 代號(area_id): 19\n",
      "放映地區: 嘉義, 代號(area_id): 21\n",
      "放映地區: 台南, 代號(area_id): 10\n",
      "放映地區: 高雄, 代號(area_id): 17\n",
      "放映地區: 屏東, 代號(area_id): 14\n",
      "放映地區: 基隆, 代號(area_id): 18\n",
      "放映地區: 宜蘭, 代號(area_id): 11\n",
      "放映地區: 花蓮, 代號(area_id): 12\n",
      "放映地區: 台東, 代號(area_id): 9\n",
      "放映地區: 金門, 代號(area_id): 24\n",
      "放映地區: 澎湖, 代號(area_id): 23\n"
     ]
    }
   ],
   "source": [
    "url = 'https://movies.yahoo.com.tw/api/v1/areas_by_movie_theater'\n",
    "payload = {'movie_id':str(movie_id)}\n",
    "\n",
    "# 模擬一個header\n",
    "headers = {\n",
    "    'authority': 'movies.yahoo.com.tw',\n",
    "    'method': 'GET',\n",
    "    'path': '/api/v1/areas_by_movie_theater?movie_id=' + str(movie_id),\n",
    "    'scheme': 'https',\n",
    "    'accept': 'application/json, text/javascript, */*; q=0.01',\n",
    "    'accept-encoding': 'gzip, deflate, br',\n",
    "    'accept-language': 'zh-TW,zh;q=0.9,en-US;q=0.8,en;q=0.7,zh-CN;q=0.6',\n",
    "    'cookie': 'rxx=9s3x2fws06.1g16irnc&v=1; _ga=GA1.3.2056742944.1551651301; GUC=AQEBAQFczFpdm0IfmwSB&s=AQAAACoo4N5D&g=XMsVBw; BX=4hkdk1decm57t&b=3&s=mr; _ga=GA1.4.2056742944.1551651301; nexagesuid=82843256dd234e8e91aa73f2062f8218; browsed_movie=eyJpdiI6IlJXWWtiSWJaZlNGK2MxQnhscnVUYWc9PSIsInZhbHVlIjoiMXRhMmVHRXRIeUNjc1RBWDJzdGYwbnlIQURmWGsrcjJSMzhkbkcraDNJVUNIZEZsbzU3amlFcVZ1NzlmazJrTGpoMjVrbHk1YmpoRENXaHZTOUw1TmI2ZTZVWHdOejZQZm16RmVuMWlHTTJLaTZLVFZZVkFOMDlTd1wvSGltcytJIiwibWFjIjoiZWQ2ZjA4MmVjZmZlYjlmNjJmYmY2NGMyMDI0Njc0NWViYjVkOWE2NDg0N2RhODMxZjBjZDhiMmJhZTc2MDZhYiJ9; avi=eyJpdiI6Im1NeWFJRlVRWDR1endEcGRGUGJUbVE9PSIsInZhbHVlIjoickRpU3JuUytmcGl6cjF5OW0rNU9iZz09IiwibWFjIjoiY2VmY2NkNzZmM2NhNjY5YzlkOTcyNjE5OGEyMzU0NWYxOTdmMDRkMDY3OWNmMmZjOTMxYjc5MjI5N2Q5NGE5MiJ9; cmp=t=1559391030&j=0; _gid=GA1.4.779543841.1559391031; XSRF-TOKEN=eyJpdiI6IkhpS2hGcDRQaHlmWUJmaHdSS2Q2bHc9PSIsInZhbHVlIjoiOUVoNFk4OHI1UUZmUWRtYXhza0MyWjJSTlhlZ3RnT0VGeVJPN2JuczVRMGRFdWt2OUlsamVKeHRobFwvcHBGM0dhU3VyMXNGTHlsb2dVM2l0U1hpUGxBPT0iLCJtYWMiOiJkZWU4YzJhNjAxMTY3MzE4Y2ExNWIxYmE1ZjE1YWZlZTlhOTcyYjc4M2RlZGY4ZWNjZDYyMTA2NGYwZGViMzc2In0%3D; m_s=eyJpdiI6InpsZHZ2Tk1BZ0dxaHhETml1RjBnUXc9PSIsInZhbHVlIjoiSkNGeHUranRoXC85bDFiaDhySTJqNkJRcWdjWUxjeVRJSHVYZ1wvd2d4bWJZUTUrSHVDM0lUcW5KNHdETFZ4T1lieU81OUhzc1VoUXhZcWk0UDZSQXVFdz09IiwibWFjIjoiYmJkMDJkMDhlODIzMzcyMWY4M2NmYWNjNGVlOWRjMDIwZmVmNzAyMjE3Yzg3ZGY3ODBkZWEzZTI4MTI5ZWNmOSJ9; _gat=1; nexagesd=10',\n",
    "    'dnt': '1',\n",
    "    'mv-authorization': '21835b082e15b91a69b3851eec7b31b82ce82afb',\n",
    "    'referer': 'https://movies.yahoo.com.tw/',\n",
    "    'user-agent': 'Mozilla/5.0 (Windows NT 10.0; Win64; x64) AppleWebKit/537.36 (KHTML, like Gecko) Chrome/74.0.3729.169 Safari/537.36',\n",
    "    'x-requested-with': 'XMLHttpRequest',\n",
    "}\n",
    "    \n",
    "resp = requests.get(url, params=payload, headers=headers)\n",
    "#print(resp.json())  # 若有需要，列印出json原始碼\n",
    "\n",
    "# 這裡回傳的格式是JSON格式的資料，要解析JSON擷取資料\n",
    "for p in resp.json():\n",
    "    print('放映地區: {0}, 代號(area_id): {1}'.format(p['title'], p['area_id']))"
   ]
  },
  {
   "cell_type": "markdown",
   "metadata": {},
   "source": [
    "### 指定你想要觀看的放映地區，查詢有上映電影的場次日期"
   ]
  },
  {
   "cell_type": "code",
   "execution_count": 20,
   "metadata": {},
   "outputs": [],
   "source": [
    "# 指定放映地區\n",
    "area_id = 28"
   ]
  },
  {
   "cell_type": "code",
   "execution_count": 21,
   "metadata": {},
   "outputs": [
    {
     "name": "stdout",
     "output_type": "stream",
     "text": [
      "一月 1\n",
      "一月 2\n",
      "一月 3\n",
      "一月 4\n",
      "一月 5\n"
     ]
    }
   ],
   "source": [
    "# 向網站發送請求\n",
    "url = 'https://movies.yahoo.com.tw/movietime_result.html'\n",
    "payload = {'movie_id':str(movie_id), 'area_id':str(area_id)}\n",
    "resp = requests.get(url, params=payload)\n",
    "resp.encoding = 'utf-8'\n",
    "\n",
    "soup = BeautifulSoup(resp.text, 'lxml')\n",
    "movie_date = soup.find_all(\"label\", attrs={'for':re.compile(\"date_[\\d]\")})\n",
    "\n",
    "# 列印播放日期\n",
    "for date in movie_date:\n",
    "    print(\"%s %s\" % (date.p.string, date.h3.string))"
   ]
  },
  {
   "cell_type": "markdown",
   "metadata": {},
   "source": [
    "### 最後指定觀看的日期，查詢並列印出放映的電影院、放映類型(數位、3D、IMAX 3D...)、放映時間等資訊。"
   ]
  },
  {
   "cell_type": "code",
   "execution_count": 25,
   "metadata": {},
   "outputs": [],
   "source": [
    "# 選定要觀看的日期\n",
    "date = \"2022-01-01\""
   ]
  },
  {
   "cell_type": "code",
   "execution_count": 26,
   "metadata": {},
   "outputs": [],
   "source": [
    "# 向網站發送請求，獲取上映的電影院及時間資訊\n",
    "url = \"https://movies.yahoo.com.tw/ajax/pc/get_schedule_by_movie\"\n",
    "payload = {'movie_id':str(movie_id),\n",
    "           'date':date,\n",
    "           'area_id':str(area_id),\n",
    "           'theater_id':'',\n",
    "           'datetime':'',\n",
    "           'movie_type_id':''}\n",
    "\n",
    "resp = requests.get(url, params=payload)\n",
    "#print(resp.json()['view'])  # 若有需要，列印出json原始碼\n",
    "\n",
    "soup = BeautifulSoup(resp.json()['view'], 'lxml')\n",
    "html = soup.find_all(\"ul\", attrs={'data-theater_name':re.compile(\".*\")})"
   ]
  },
  {
   "cell_type": "code",
   "execution_count": 40,
   "metadata": {},
   "outputs": [
    {
     "name": "stdout",
     "output_type": "stream",
     "text": [
      "放映的電影院： 國賓影城(台北長春廣場)\n",
      "放映類型： 數位\n",
      "放映時間： ['11:20', '12:50', '13:20', '14:10', '15:10', '16:10', '17:00', '18:00', '19:00', '19:50', '20:50', '21:50', '22:40']\n",
      "放映的電影院： 欣欣秀泰影城\n",
      "放映類型： 數位\n",
      "放映時間： ['10:50', '11:40', '13:45', '14:35', '15:35', '16:40', '17:30', '18:30', '19:35', '20:25', '22:30', '23:20', '01:25']\n",
      "放映的電影院： 台北美麗華大直影城\n",
      "放映類型： 數位\n",
      "放映時間： ['16:15', '17:40', '18:30', '19:10', '20:35', '21:25', '22:05', '23:20', '00:10']\n",
      "放映的電影院： 台北新光影城\n",
      "放映類型： 數位\n",
      "放映時間： ['16:10', '19:00', '21:50']\n",
      "放映的電影院： 台北in89豪華數位影城\n",
      "放映類型： 數位\n",
      "放映時間： ['19:50', '22:40']\n",
      "放映的電影院： 國賓大戲院(西門)\n",
      "放映類型： 數位\n",
      "放映時間： ['10:30', '13:15', '16:00', '18:45', '21:30']\n",
      "放映的電影院： 台北樂聲影城\n",
      "放映類型： 數位\n",
      "放映時間： ['16:10', '19:00', '21:50', '00:40', '03:15']\n",
      "放映的電影院： 喜滿客絕色影城\n",
      "放映類型： 數位\n",
      "放映時間： ['18:50', '21:40']\n",
      "放映的電影院： 台北信義威秀影城\n",
      "放映類型： 數位\n",
      "放映時間： ['16:25', '17:25', '18:20', '19:15', '20:15', '21:10', '22:05', '23:05', '00:00', '00:55']\n",
      "放映的電影院： 總督影城\n",
      "放映類型： 數位\n",
      "放映時間： ['10:20', '16:30', '19:20', '22:20']\n",
      "放映的電影院： 哈拉影城\n",
      "放映類型： 數位\n",
      "放映時間： ['16:10', '17:30', '19:00', '20:20', '21:00', '22:10', '23:20']\n",
      "放映的電影院： 百老匯數位影城\n",
      "放映類型： 數位\n",
      "放映時間： ['09:50', '10:30', '11:00', '12:30', '13:10', '13:40', '15:10', '15:45', '15:50', '16:20', '17:50', '18:25', '18:30', '19:00', '20:30', '21:05', '21:10', '21:40', '23:10', '23:50', '00:20']\n",
      "放映的電影院： 東南亞秀泰影城\n",
      "放映類型： 數位\n",
      "放映時間： ['10:30', '13:30', '16:30', '19:30', '22:30']\n",
      "放映的電影院： 今日秀泰影城\n",
      "放映類型： 數位\n",
      "放映時間： ['11:30', '14:30', '16:30', '17:30', '19:30', '20:30', '22:30']\n",
      "放映的電影院： 京站威秀影城\n",
      "放映類型： 數位\n",
      "放映時間： ['16:15', '17:45', '19:05', '20:30', '21:50', '23:15', '00:35']\n",
      "放映的電影院： 梅花數位影院\n",
      "放映類型： 數位\n",
      "放映時間： ['16:20', '19:00']\n",
      "放映的電影院： 台北新民生戲院\n",
      "放映類型： 數位\n",
      "放映時間： ['16:40', '20:40']\n",
      "放映的電影院： 喜樂時代影城南港店\n",
      "放映類型： 數位\n",
      "放映時間： ['16:10', '16:40', '17:20', '18:30', '19:00', '19:30', '20:10', '20:40', '21:20', '21:50', '22:20', '23:00']\n",
      "放映的電影院： 美麗新大直皇家影城\n",
      "放映類型： 數位\n",
      "放映時間： ['10:50', '11:40', '13:50', '16:05', '17:00', '20:00', '21:00', '23:10', '00:00']\n",
      "放映的電影院： MUVIE CINEMAS台北松仁威秀\n",
      "放映類型： TITAN\n",
      "放映時間： ['16:50', '22:10']\n"
     ]
    }
   ],
   "source": [
    "for h in html:\n",
    "    theater_name = h.get('data-theater_name')\n",
    "    print('放映的電影院：',theater_name)\n",
    "    type = h.find(class_ = 'tapR').text\n",
    "    print('放映類型：',type)\n",
    "    time = h.find(class_ = 'time _c').find_all('label')\n",
    "    movie_time = []\n",
    "    for t in time:\n",
    "        movie_time.append(t.text)\n",
    "    print('放映時間：',movie_time)\n"
   ]
  },
  {
   "cell_type": "code",
   "execution_count": null,
   "metadata": {},
   "outputs": [],
   "source": []
  }
 ],
 "metadata": {
  "kernelspec": {
   "display_name": "Python 3",
   "language": "python",
   "name": "python3"
  },
  "language_info": {
   "codemirror_mode": {
    "name": "ipython",
    "version": 3
   },
   "file_extension": ".py",
   "mimetype": "text/x-python",
   "name": "python",
   "nbconvert_exporter": "python",
   "pygments_lexer": "ipython3",
   "version": "3.10.0"
  }
 },
 "nbformat": 4,
 "nbformat_minor": 2
}
