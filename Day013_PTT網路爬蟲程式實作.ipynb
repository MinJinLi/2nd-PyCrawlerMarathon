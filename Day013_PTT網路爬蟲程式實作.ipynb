{
 "cells": [
  {
   "cell_type": "markdown",
   "metadata": {},
   "source": [
    "# PTT 網路爬蟲實作練習\n",
    "\n",
    "\n",
    "* 能夠利用 Request + BeatifulSour 撰寫爬蟲，並存放到合適的資料結構\n"
   ]
  },
  {
   "cell_type": "markdown",
   "metadata": {},
   "source": [
    "## 作業目標\n",
    "\n",
    "根據範例 ，完成以下問題：\n",
    "\n",
    "* ① 印出最新文章的「作者」「標題」「時間」\n",
    "* ② 印出第一頁所有文章的「作者」「標題」「時間」\n"
   ]
  },
  {
   "cell_type": "markdown",
   "metadata": {},
   "source": [
    "### ① 印出最新文章的「作者」「標題」「時間」"
   ]
  },
  {
   "cell_type": "code",
   "execution_count": 85,
   "metadata": {},
   "outputs": [
    {
     "name": "stdout",
     "output_type": "stream",
     "text": [
      "作者: lalbj (破梗了)\n",
      "標題: Re: [情報] LBJ今晚只比龜龜多打3分鐘 正負值相差32\n",
      "時間: Sun Dec 26 16:04:20 2021\n"
     ]
    }
   ],
   "source": [
    "import requests\n",
    "from bs4 import BeautifulSoup\n",
    "\n",
    "url = 'https://www.ptt.cc/bbs/NBA/index.html'\n",
    "headers = {'User-Agent': 'Mozilla/5.0 (Macintosh; Intel Mac OS X 10_15_7) AppleWebKit/605.1.15 (KHTML, like Gecko) Version/15.1 Safari/605.1.15'}\n",
    "r = requests.get(url,headers = headers)\n",
    "#print(r.text)\n",
    "soup_href = BeautifulSoup(r.text,'html.parser')\n",
    "#print(requests.get('https://www.ptt.cc{}'.format(soup_href.find(class_ = 'title').find('a')['href'])).text)\n",
    "soup = BeautifulSoup(requests.get('https://www.ptt.cc{}'.format(soup_href.find(class_ = 'title').find('a')['href'])).text,'html.parser')\n",
    "#print(soup)\n",
    "contents = soup.find(id = 'main-content').find_all(class_ = 'article-metaline')\n",
    "\n",
    "for content in contents:\n",
    "    if content.find(class_ = 'article-meta-tag').text == '作者':\n",
    "        print('作者:',content.find(class_ = 'article-meta-value').text)\n",
    "    elif content.find(class_ = 'article-meta-tag').text == '標題':\n",
    "        print('標題:',content.find(class_ = 'article-meta-value').text)\n",
    "    elif content.find(class_ = 'article-meta-tag').text == '時間':\n",
    "        print('時間:',content.find(class_ = 'article-meta-value').text)\n",
    "    else:\n",
    "        continue\n",
    "#print(content)\n",
    "\n",
    "    \n"
   ]
  },
  {
   "cell_type": "markdown",
   "metadata": {},
   "source": [
    "### ② 印出第一頁所有文章的「作者」「標題」「時間」"
   ]
  },
  {
   "cell_type": "code",
   "execution_count": 92,
   "metadata": {},
   "outputs": [
    {
     "name": "stdout",
     "output_type": "stream",
     "text": [
      "作者： lalbj 標題： Re: [情報] LBJ今晚只比龜龜多打3分鐘 正負值相差32 時間： 12/26\n",
      "作者： thnlkj0665 標題： [情報] Otto Porter Jr今天最後3分鐘得7分 太陽0 時間： 12/26\n",
      "作者： - 標題： \t\t\t\t\t\t\t(本文已被刪除) [koko0123]\t\t\t\t\t\t 時間： 12/26\n",
      "作者： kenny1300175 標題： [新聞] LPC-帕金斯：湖人該考慮「拆掉3巨頭」 時間： 12/26\n",
      "作者： handsomeLin 標題： Re: [情報] LBJ今晚只比龜龜多打3分鐘 正負值相差32 時間： 12/26\n",
      "作者： henry910119 標題： Re: [情報] Westbrook今日關鍵迷之操作 時間： 12/26\n",
      "作者： fupm 標題： Re: [新聞] LPC-帕金斯：湖人該考慮「拆掉3巨頭」 時間： 12/26\n",
      "作者： MrSatan 標題： [情報] 例行賽生涯三分球命中數 Top40 時間： 12/26\n",
      "作者： - 標題： \t\t\t\t\t\t\t(已被pneumo刪除) <ganbaru>回文150\t\t\t\t\t\t 時間： 12/26\n",
      "作者： thnlkj0665 標題： [花邊] Fizdale談LBJ不在場:能做複製人?我不知道 時間： 12/26\n",
      "作者： brian10207 標題： [新聞] Claxton隔扣詹皇 完成致勝灌籃 時間： 12/26\n",
      "作者： wwwson1256 標題： [情報] Kyle Lowry進入健康與安全協議 時間： 12/26\n",
      "作者： joe255118 標題： Re: [新聞] LPC-帕金斯：湖人該考慮「拆掉3巨頭」 時間： 12/26\n",
      "作者： thnlkj0665 標題： [新聞] 平安夜家中失火　Maxey觸發健康安全協議 時間： 12/26\n",
      "作者： onionandy 標題： Re: [新聞] LPC-帕金斯：湖人該考慮「拆掉3巨頭」 時間： 12/26\n",
      "作者： ruiun 標題： Re: [新聞] LPC-帕金斯：湖人該考慮「拆掉3巨頭」 時間： 12/26\n",
      "作者： arod1414 標題： [外絮] Klutch Sports發推替西門全明星賽拉票 時間： 12/26\n",
      "作者： playerunknow 標題： [新聞] 有望簽保障合約 小裴頓：每場比賽都當最 時間： 12/26\n",
      "作者： pneumo 標題： [公告] 板規v8.9 時間： 11/22\n",
      "作者： laptic 標題： [情報] SEASON Schedule December 21–22 時間： 11/26\n",
      "作者： pneumo 標題： [公告] NBA板主投票開始 時間： 12/20\n",
      "作者： Rambo 標題： [情報] ★今日排名(2021.12.22)★ 時間： 12/22\n",
      "作者： guardyo 標題： [情報] NBA Standings (Dec. 26, 2021) 時間： 12/26\n"
     ]
    }
   ],
   "source": [
    "import requests\n",
    "from bs4 import BeautifulSoup\n",
    "\n",
    "url = 'https://www.ptt.cc/bbs/NBA/index.html'\n",
    "headers = {'User-Agent': 'Mozilla/5.0 (Macintosh; Intel Mac OS X 10_15_7) AppleWebKit/605.1.15 (KHTML, like Gecko) Version/15.1 Safari/605.1.15'}\n",
    "r = requests.get(url,headers = headers)\n",
    "#print(r.text)\n",
    "soup = BeautifulSoup(r.text,'html.parser')\n",
    "contents = soup.find(id = 'main-container').find_all(class_ = 'r-ent')\n",
    "\n",
    "for content in contents:\n",
    "    author = content.find(class_ = 'author').text\n",
    "    title = content.find(class_ = 'title').text.replace('\\n','')\n",
    "    date = content.find(class_ = 'date').text \n",
    "    print('作者：',author,'標題：',title,'時間：',date)"
   ]
  },
  {
   "cell_type": "markdown",
   "metadata": {},
   "source": [
    "### ③ 試著爬爬看其他版的文章"
   ]
  },
  {
   "cell_type": "code",
   "execution_count": 94,
   "metadata": {},
   "outputs": [
    {
     "name": "stdout",
     "output_type": "stream",
     "text": [
      "作者： GNZ48 標題： Re: [問卦] 新疆省長要下台了？ 時間： 12/26\n",
      "作者： Nodens 標題： [問卦] 寫程式靠努力能到怎樣的高度? 時間： 12/26\n",
      "作者： ivorysoap 標題： Re: [新聞] 一死三傷又是酒駕毀家庭　市長陳其邁震怒 時間： 12/26\n",
      "作者： inderal 標題： Re: [新聞] 高雄酒駕撞飛一家人釀1死3傷！37歲母斑馬 時間： 12/26\n",
      "作者： ohlong 標題： Re: [新聞] 高雄酒駕撞飛一家人釀1死3傷！37歲母斑馬 時間： 12/26\n",
      "作者： TS28 標題： [問卦] 為甚麼義美小泡芙中間要有個分隔??? 時間： 12/26\n",
      "作者： kenzoamour 標題： [問卦] 有沒有電影殺人不分左右的八卦 時間： 12/26\n",
      "作者： LeeAnAn 標題： [問卦] 說真的,中南部酒駕問題是冰凍三尺 時間： 12/26\n",
      "作者： TWCHIEN 標題： Re: [新聞] BMW酒駕撞飛一家四口！母慘死、15歲女兒 時間： 12/26\n",
      "作者： cosmite 標題： Re: [問卦] 大鼻子的人有什麼厲害之處啊？ 時間： 12/26\n",
      "作者： ubcs 標題： [公告] 八卦板板規(2021.11.21) 時間： 11/21\n",
      "作者： montyCC 標題： [協尋] 求行車紀錄器12/21早上台中南屯路摔車 時間： 12/21\n",
      "作者： ubcs 標題： Fw: [任務] QuestCenter 聖誕節任務 玩遊戲兼發錢 時間： 12/24\n",
      "作者： ubcs 標題： [公告] 聖誕夜單人用餐大亂鬥2.0活動投票發錢 時間： 12/26\n",
      "作者： babywebb 標題： [協尋] 12/18 10點多 行車記錄器 時間： 12/25\n"
     ]
    }
   ],
   "source": [
    "url_gossiping = 'https://www.ptt.cc/bbs/Gossiping/index.html'\n",
    "#八卦版須加cookies\n",
    "headers ={'User-Agent': 'Mozilla/5.0 (Macintosh; Intel Mac OS X 10_15_7) AppleWebKit/605.1.15 (KHTML, like Gecko) Version/15.1 Safari/605.1.15'}\n",
    "r = requests.get(url_gossiping,headers = headers,cookies={'over18':'1'})\n",
    "soup = BeautifulSoup(r.text,'html.parser')\n",
    "contents = soup.find(id = 'main-container').find_all(class_ = 'r-ent')\n",
    "\n",
    "for content in contents:\n",
    "    author = content.find(class_ = 'author').text\n",
    "    title = content.find(class_ = 'title').text.replace('\\n','')\n",
    "    date = content.find(class_ = 'date').text \n",
    "    print('作者：',author,'標題：',title,'時間：',date)"
   ]
  }
 ],
 "metadata": {
  "kernelspec": {
   "display_name": "Python 3",
   "language": "python",
   "name": "python3"
  },
  "language_info": {
   "codemirror_mode": {
    "name": "ipython",
    "version": 3
   },
   "file_extension": ".py",
   "mimetype": "text/x-python",
   "name": "python",
   "nbconvert_exporter": "python",
   "pygments_lexer": "ipython3",
   "version": "3.10.0"
  }
 },
 "nbformat": 4,
 "nbformat_minor": 2
}
